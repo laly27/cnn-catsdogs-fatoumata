{
 "cells": [
  {
   "cell_type": "markdown",
   "id": "ecaea607",
   "metadata": {},
   "source": [
    "Créer le notebook et fixer la reproductibilité"
   ]
  },
  {
   "cell_type": "code",
   "execution_count": 3,
   "id": "1dd2cd75",
   "metadata": {},
   "outputs": [
    {
     "name": "stdout",
     "output_type": "stream",
     "text": [
      "Device: cpu\n"
     ]
    }
   ],
   "source": [
    "import torch\n",
    "import torch.nn as nn\n",
    "import torch.nn.functional as F\n",
    "import torch.optim as optim\n",
    "from torch.utils.data import DataLoader, random_split\n",
    "from torchvision import datasets, transforms, models\n",
    "import numpy as np\n",
    "import random\n",
    "from tqdm import tqdm\n",
    "import matplotlib.pyplot as plt\n",
    "from sklearn.metrics import accuracy_score, precision_score, recall_score, confusion_matrix\n",
    "import seaborn as sns\n",
    "\n",
    "# Fixer la reproductibilité\n",
    "seed = 42\n",
    "torch.manual_seed(seed)\n",
    "np.random.seed(seed)\n",
    "random.seed(seed)\n",
    "torch.backends.cudnn.deterministic = True\n",
    "torch.backends.cudnn.benchmark = False\n",
    "\n",
    "device = torch.device(\"cuda\" if torch.cuda.is_available() else \"cpu\")\n",
    "print(\"Device:\", device)"
   ]
  },
  {
   "cell_type": "markdown",
   "id": "3ee69bec",
   "metadata": {},
   "source": [
    "Préparer les données avec split train/test"
   ]
  },
  {
   "cell_type": "code",
   "execution_count": 4,
   "id": "d24b5d39",
   "metadata": {},
   "outputs": [
    {
     "name": "stdout",
     "output_type": "stream",
     "text": [
      "Train: 18000 | Val: 4500\n"
     ]
    }
   ],
   "source": [
    "train_transforms = transforms.Compose([\n",
    "    transforms.Resize((128, 128)),\n",
    "    transforms.RandomHorizontalFlip(),\n",
    "    transforms.RandomRotation(10),\n",
    "    transforms.ToTensor(),\n",
    "    transforms.Normalize([0.5, 0.5, 0.5], [0.5, 0.5, 0.5])\n",
    "])\n",
    "\n",
    "test_transforms = transforms.Compose([\n",
    "    transforms.Resize((128, 128)),\n",
    "    transforms.ToTensor(),\n",
    "    transforms.Normalize([0.5, 0.5, 0.5], [0.5, 0.5, 0.5])\n",
    "])\n",
    "full_train_dataset = datasets.ImageFolder(\"data/train\", transform=train_transforms)\n",
    "\n",
    "# Split interne pour validation\n",
    "train_size = int(0.8 * len(full_train_dataset))\n",
    "val_size = len(full_train_dataset) - train_size\n",
    "train_dataset, val_dataset = random_split(full_train_dataset, [train_size, val_size])\n",
    "\n",
    "# Loaders\n",
    "train_loader = DataLoader(train_dataset, batch_size=32, shuffle=True)\n",
    "val_loader = DataLoader(val_dataset, batch_size=32, shuffle=False)\n",
    "\n",
    "print(f\"Train: {len(train_dataset)} | Val: {len(val_dataset)}\")\n"
   ]
  },
  {
   "cell_type": "markdown",
   "id": "e9806989",
   "metadata": {},
   "source": [
    "Expérience A : CNN from scratch"
   ]
  },
  {
   "cell_type": "code",
   "execution_count": 5,
   "id": "ade67427",
   "metadata": {},
   "outputs": [],
   "source": [
    "class CNNFromScratch(nn.Module):\n",
    "    def __init__(self):\n",
    "        super(CNNFromScratch,self).__init__()\n",
    "        self.conv1 = nn.Conv2d(3,32,3,padding=1)\n",
    "        self.bn1 = nn.BatchNorm2d(32)\n",
    "        self.conv2 = nn.Conv2d(32,64,3,padding=1)\n",
    "        self.bn2 = nn.BatchNorm2d(64)\n",
    "        self.conv3 = nn.Conv2d(64,128,3,padding=1)\n",
    "        self.bn3 = nn.BatchNorm2d(128)\n",
    "        self.pool = nn.MaxPool2d(2,2)\n",
    "        self.dropout = nn.Dropout(0.3)\n",
    "        self.fc1 = nn.Linear(128*16*16,512)\n",
    "        self.fc2 = nn.Linear(512,2)\n",
    "    def forward(self,x):\n",
    "        x = self.pool(F.relu(self.bn1(self.conv1(x))))\n",
    "        x = self.pool(F.relu(self.bn2(self.conv2(x))))\n",
    "        x = self.pool(F.relu(self.bn3(self.conv3(x))))\n",
    "        x = x.view(x.size(0),-1)\n",
    "        x = self.dropout(F.relu(self.fc1(x)))\n",
    "        x = self.fc2(x)\n",
    "        return x\n",
    "\n",
    "model_scratch = CNNFromScratch().to(device)\n"
   ]
  },
  {
   "cell_type": "markdown",
   "id": "b8c6cbf9",
   "metadata": {},
   "source": [
    "Expérience B – Transfert Learning\n",
    " Matrice de confusion "
   ]
  },
  {
   "cell_type": "code",
   "execution_count": 7,
   "id": "7c91406a",
   "metadata": {},
   "outputs": [
    {
     "name": "stderr",
     "output_type": "stream",
     "text": [
      "c:\\Users\\SIDIBE\\cnn-catsdogs-fatoumata\\.venv\\Lib\\site-packages\\torchvision\\models\\_utils.py:208: UserWarning: The parameter 'pretrained' is deprecated since 0.13 and may be removed in the future, please use 'weights' instead.\n",
      "  warnings.warn(\n",
      "c:\\Users\\SIDIBE\\cnn-catsdogs-fatoumata\\.venv\\Lib\\site-packages\\torchvision\\models\\_utils.py:223: UserWarning: Arguments other than a weight enum or `None` for 'weights' are deprecated since 0.13 and may be removed in the future. The current behavior is equivalent to passing `weights=ResNet18_Weights.IMAGENET1K_V1`. You can also use `weights=ResNet18_Weights.DEFAULT` to get the most up-to-date weights.\n",
      "  warnings.warn(msg)\n"
     ]
    },
    {
     "name": "stdout",
     "output_type": "stream",
     "text": [
      "Downloading: \"https://download.pytorch.org/models/resnet18-f37072fd.pth\" to C:\\Users\\SIDIBE/.cache\\torch\\hub\\checkpoints\\resnet18-f37072fd.pth\n"
     ]
    },
    {
     "name": "stderr",
     "output_type": "stream",
     "text": [
      "100%|██████████| 44.7M/44.7M [00:09<00:00, 5.03MB/s]\n"
     ]
    }
   ],
   "source": [
    "model_tl = models.resnet18(pretrained=True)\n",
    "for param in model_tl.parameters():\n",
    "    param.requires_grad = False  # Geler toutes les couches\n",
    "\n",
    "# Adapter la couche finale\n",
    "num_features = model_tl.fc.in_features\n",
    "model_tl.fc = nn.Linear(num_features, 2)\n",
    "model_tl = model_tl.to(device)\n"
   ]
  },
  {
   "cell_type": "markdown",
   "id": "61a4f890",
   "metadata": {},
   "source": [
    "Définir la fonction de perte, les optimiseurs et les schedulers\n"
   ]
  },
  {
   "cell_type": "code",
   "execution_count": 9,
   "id": "5cb48912",
   "metadata": {},
   "outputs": [],
   "source": [
    "criterion = nn.CrossEntropyLoss()\n",
    "\n",
    "optimizer_scratch = optim.Adam(model_scratch.parameters(), lr=0.001)\n",
    "optimizer_tl = optim.Adam(filter(lambda p: p.requires_grad, model_tl.parameters()), lr=1e-4)\n",
    "\n",
    "from torch.optim.lr_scheduler import StepLR\n",
    "scheduler_scratch = StepLR(optimizer_scratch, step_size=5, gamma=0.5)\n",
    "scheduler_tl = StepLR(optimizer_tl, step_size=5, gamma=0.5)"
   ]
  },
  {
   "cell_type": "markdown",
   "id": "390cb087",
   "metadata": {},
   "source": [
    "Fonction d'entraînement avec validation"
   ]
  },
  {
   "cell_type": "code",
   "execution_count": 11,
   "id": "bc5f9240",
   "metadata": {},
   "outputs": [],
   "source": [
    "def train_model(model, train_loader, val_loader, criterion, optimizer, scheduler, epochs=10):\n",
    "    history = {'train_loss':[],'val_loss':[],'train_acc':[],'val_acc':[],\n",
    "               'train_prec':[],'val_prec':[],'train_rec':[],'val_rec':[]}\n",
    "    \n",
    "    for epoch in range(epochs):\n",
    "        # --- Entraînement ---\n",
    "        model.train()\n",
    "        train_loss = 0\n",
    "        all_preds, all_labels = [], []\n",
    "        for inputs, labels in tqdm(train_loader):\n",
    "            inputs, labels = inputs.to(device), labels.to(device)\n",
    "            optimizer.zero_grad()\n",
    "            outputs = model(inputs)\n",
    "            loss = criterion(outputs, labels)\n",
    "            loss.backward()\n",
    "            optimizer.step()\n",
    "            train_loss += loss.item()\n",
    "            all_preds.extend(outputs.argmax(1).cpu().numpy())\n",
    "            all_labels.extend(labels.cpu().numpy())\n",
    "        train_acc = accuracy_score(all_labels, all_preds)\n",
    "        train_prec = precision_score(all_labels, all_preds)\n",
    "        train_rec = recall_score(all_labels, all_preds)\n",
    "        \n",
    "        # --- Validation ---\n",
    "        model.eval()\n",
    "        val_loss = 0\n",
    "        all_preds, all_labels = [], []\n",
    "        with torch.no_grad():\n",
    "            for inputs, labels in val_loader:\n",
    "                inputs, labels = inputs.to(device), labels.to(device)\n",
    "                outputs = model(inputs)\n",
    "                loss = criterion(outputs, labels)\n",
    "                val_loss += loss.item()\n",
    "                all_preds.extend(outputs.argmax(1).cpu().numpy())\n",
    "                all_labels.extend(labels.cpu().numpy())\n",
    "        val_acc = accuracy_score(all_labels, all_preds)\n",
    "        val_prec = precision_score(all_labels, all_preds)\n",
    "        val_rec = recall_score(all_labels, all_preds)\n",
    "        \n",
    "        # --- Scheduler ---\n",
    "        scheduler.step()\n",
    "        \n",
    "        # --- Sauvegarde historique ---\n",
    "        history['train_loss'].append(train_loss/len(train_loader))\n",
    "        history['val_loss'].append(val_loss/len(val_loader))\n",
    "        history['train_acc'].append(train_acc)\n",
    "        history['val_acc'].append(val_acc)\n",
    "        history['train_prec'].append(train_prec)\n",
    "        history['val_prec'].append(val_prec)\n",
    "        history['train_rec'].append(train_rec)\n",
    "        history['val_rec'].append(val_rec)\n",
    "        \n",
    "        print(f\"Epoch {epoch+1}/{epochs} | Train Loss: {train_loss/len(train_loader):.4f} | Val Loss: {val_loss/len(val_loader):.4f}\")\n",
    "        print(f\"Train Acc: {train_acc:.4f} | Val Acc: {val_acc:.4f}\")\n",
    "        print(f\"Train Prec: {train_prec:.4f} | Val Prec: {val_prec:.4f}\")\n",
    "        print(f\"Train Rec: {train_rec:.4f} | Val Rec: {val_rec:.4f}\")\n",
    "        \n",
    "    return history"
   ]
  },
  {
   "cell_type": "markdown",
   "id": "048fe884",
   "metadata": {},
   "source": [
    "Entraîner les modèles"
   ]
  },
  {
   "cell_type": "code",
   "execution_count": 12,
   "id": "0bd24efb",
   "metadata": {},
   "outputs": [
    {
     "name": "stdout",
     "output_type": "stream",
     "text": [
      "=== Training CNN from Scratch ===\n"
     ]
    },
    {
     "name": "stderr",
     "output_type": "stream",
     "text": [
      "100%|██████████| 563/563 [14:05<00:00,  1.50s/it]\n"
     ]
    },
    {
     "name": "stdout",
     "output_type": "stream",
     "text": [
      "Epoch 1/10 | Train Loss: 0.8532 | Val Loss: 0.5468\n",
      "Train Acc: 0.6642 | Val Acc: 0.7162\n",
      "Train Prec: 0.6682 | Val Prec: 0.7389\n",
      "Train Rec: 0.6516 | Val Rec: 0.6704\n"
     ]
    },
    {
     "name": "stderr",
     "output_type": "stream",
     "text": [
      "100%|██████████| 563/563 [57:04<00:00,  6.08s/it]    \n"
     ]
    },
    {
     "name": "stdout",
     "output_type": "stream",
     "text": [
      "Epoch 2/10 | Train Loss: 0.5574 | Val Loss: 0.5016\n",
      "Train Acc: 0.7167 | Val Acc: 0.7558\n",
      "Train Prec: 0.7238 | Val Prec: 0.7892\n",
      "Train Rec: 0.7004 | Val Rec: 0.6992\n"
     ]
    },
    {
     "name": "stderr",
     "output_type": "stream",
     "text": [
      "100%|██████████| 563/563 [18:31<00:00,  1.97s/it]\n"
     ]
    },
    {
     "name": "stdout",
     "output_type": "stream",
     "text": [
      "Epoch 3/10 | Train Loss: 0.5183 | Val Loss: 0.5135\n",
      "Train Acc: 0.7435 | Val Acc: 0.7356\n",
      "Train Prec: 0.7596 | Val Prec: 0.8773\n",
      "Train Rec: 0.7121 | Val Rec: 0.5488\n"
     ]
    },
    {
     "name": "stderr",
     "output_type": "stream",
     "text": [
      "100%|██████████| 563/563 [17:03<00:00,  1.82s/it]\n"
     ]
    },
    {
     "name": "stdout",
     "output_type": "stream",
     "text": [
      "Epoch 4/10 | Train Loss: 0.4827 | Val Loss: 0.5053\n",
      "Train Acc: 0.7713 | Val Acc: 0.7689\n",
      "Train Prec: 0.7885 | Val Prec: 0.8313\n",
      "Train Rec: 0.7411 | Val Rec: 0.6757\n"
     ]
    },
    {
     "name": "stderr",
     "output_type": "stream",
     "text": [
      "100%|██████████| 563/563 [14:13<00:00,  1.52s/it]\n"
     ]
    },
    {
     "name": "stdout",
     "output_type": "stream",
     "text": [
      "Epoch 5/10 | Train Loss: 0.4480 | Val Loss: 0.4800\n",
      "Train Acc: 0.7959 | Val Acc: 0.7618\n",
      "Train Prec: 0.8064 | Val Prec: 0.8961\n",
      "Train Rec: 0.7787 | Val Rec: 0.5932\n"
     ]
    },
    {
     "name": "stderr",
     "output_type": "stream",
     "text": [
      "100%|██████████| 563/563 [16:21<00:00,  1.74s/it]\n"
     ]
    },
    {
     "name": "stdout",
     "output_type": "stream",
     "text": [
      "Epoch 6/10 | Train Loss: 0.3946 | Val Loss: 0.4441\n",
      "Train Acc: 0.8269 | Val Acc: 0.8091\n",
      "Train Prec: 0.8318 | Val Prec: 0.7514\n",
      "Train Rec: 0.8195 | Val Rec: 0.9250\n"
     ]
    },
    {
     "name": "stderr",
     "output_type": "stream",
     "text": [
      "100%|██████████| 563/563 [15:21<00:00,  1.64s/it]\n"
     ]
    },
    {
     "name": "stdout",
     "output_type": "stream",
     "text": [
      "Epoch 7/10 | Train Loss: 0.3736 | Val Loss: 0.3586\n",
      "Train Acc: 0.8340 | Val Acc: 0.8429\n",
      "Train Prec: 0.8394 | Val Prec: 0.8706\n",
      "Train Rec: 0.8259 | Val Rec: 0.8061\n"
     ]
    },
    {
     "name": "stderr",
     "output_type": "stream",
     "text": [
      "100%|██████████| 563/563 [15:52<00:00,  1.69s/it]\n"
     ]
    },
    {
     "name": "stdout",
     "output_type": "stream",
     "text": [
      "Epoch 8/10 | Train Loss: 0.3627 | Val Loss: 0.3679\n",
      "Train Acc: 0.8432 | Val Acc: 0.8316\n",
      "Train Prec: 0.8461 | Val Prec: 0.8548\n",
      "Train Rec: 0.8389 | Val Rec: 0.7995\n"
     ]
    },
    {
     "name": "stderr",
     "output_type": "stream",
     "text": [
      "100%|██████████| 563/563 [16:09<00:00,  1.72s/it]\n"
     ]
    },
    {
     "name": "stdout",
     "output_type": "stream",
     "text": [
      "Epoch 9/10 | Train Loss: 0.3461 | Val Loss: 0.3415\n",
      "Train Acc: 0.8522 | Val Acc: 0.8536\n",
      "Train Prec: 0.8567 | Val Prec: 0.8660\n",
      "Train Rec: 0.8458 | Val Rec: 0.8372\n"
     ]
    },
    {
     "name": "stderr",
     "output_type": "stream",
     "text": [
      "100%|██████████| 563/563 [14:26<00:00,  1.54s/it]\n"
     ]
    },
    {
     "name": "stdout",
     "output_type": "stream",
     "text": [
      "Epoch 10/10 | Train Loss: 0.3341 | Val Loss: 0.3614\n",
      "Train Acc: 0.8561 | Val Acc: 0.8264\n",
      "Train Prec: 0.8619 | Val Prec: 0.9355\n",
      "Train Rec: 0.8478 | Val Rec: 0.7019\n",
      "=== Training Transfer Learning ===\n"
     ]
    },
    {
     "name": "stderr",
     "output_type": "stream",
     "text": [
      "100%|██████████| 563/563 [11:10<00:00,  1.19s/it]\n"
     ]
    },
    {
     "name": "stdout",
     "output_type": "stream",
     "text": [
      "Epoch 1/10 | Train Loss: 0.4504 | Val Loss: 0.2979\n",
      "Train Acc: 0.7769 | Val Acc: 0.8793\n",
      "Train Prec: 0.7820 | Val Prec: 0.9060\n",
      "Train Rec: 0.7678 | Val Rec: 0.8469\n"
     ]
    },
    {
     "name": "stderr",
     "output_type": "stream",
     "text": [
      "100%|██████████| 563/563 [09:53<00:00,  1.05s/it]\n"
     ]
    },
    {
     "name": "stdout",
     "output_type": "stream",
     "text": [
      "Epoch 2/10 | Train Loss: 0.2984 | Val Loss: 0.2541\n",
      "Train Acc: 0.8713 | Val Acc: 0.9000\n",
      "Train Prec: 0.8892 | Val Prec: 0.9107\n",
      "Train Rec: 0.8482 | Val Rec: 0.8873\n"
     ]
    },
    {
     "name": "stderr",
     "output_type": "stream",
     "text": [
      "100%|██████████| 563/563 [10:09<00:00,  1.08s/it]\n"
     ]
    },
    {
     "name": "stdout",
     "output_type": "stream",
     "text": [
      "Epoch 3/10 | Train Loss: 0.2670 | Val Loss: 0.2405\n",
      "Train Acc: 0.8869 | Val Acc: 0.8936\n",
      "Train Prec: 0.9023 | Val Prec: 0.9080\n",
      "Train Rec: 0.8676 | Val Rec: 0.8762\n"
     ]
    },
    {
     "name": "stderr",
     "output_type": "stream",
     "text": [
      "100%|██████████| 563/563 [10:30<00:00,  1.12s/it]\n"
     ]
    },
    {
     "name": "stdout",
     "output_type": "stream",
     "text": [
      "Epoch 4/10 | Train Loss: 0.2578 | Val Loss: 0.2336\n",
      "Train Acc: 0.8870 | Val Acc: 0.8993\n",
      "Train Prec: 0.9025 | Val Prec: 0.8983\n",
      "Train Rec: 0.8676 | Val Rec: 0.9011\n"
     ]
    },
    {
     "name": "stderr",
     "output_type": "stream",
     "text": [
      "100%|██████████| 563/563 [09:35<00:00,  1.02s/it]\n"
     ]
    },
    {
     "name": "stdout",
     "output_type": "stream",
     "text": [
      "Epoch 5/10 | Train Loss: 0.2500 | Val Loss: 0.2200\n",
      "Train Acc: 0.8916 | Val Acc: 0.9091\n",
      "Train Prec: 0.9026 | Val Prec: 0.9341\n",
      "Train Rec: 0.8778 | Val Rec: 0.8807\n"
     ]
    },
    {
     "name": "stderr",
     "output_type": "stream",
     "text": [
      "100%|██████████| 563/563 [09:31<00:00,  1.01s/it]\n"
     ]
    },
    {
     "name": "stdout",
     "output_type": "stream",
     "text": [
      "Epoch 6/10 | Train Loss: 0.2468 | Val Loss: 0.2211\n",
      "Train Acc: 0.8956 | Val Acc: 0.9069\n",
      "Train Prec: 0.9072 | Val Prec: 0.9222\n",
      "Train Rec: 0.8812 | Val Rec: 0.8891\n"
     ]
    },
    {
     "name": "stderr",
     "output_type": "stream",
     "text": [
      "100%|██████████| 563/563 [09:38<00:00,  1.03s/it]\n"
     ]
    },
    {
     "name": "stdout",
     "output_type": "stream",
     "text": [
      "Epoch 7/10 | Train Loss: 0.2457 | Val Loss: 0.2160\n",
      "Train Acc: 0.8918 | Val Acc: 0.9091\n",
      "Train Prec: 0.9028 | Val Prec: 0.9391\n",
      "Train Rec: 0.8781 | Val Rec: 0.8753\n"
     ]
    },
    {
     "name": "stderr",
     "output_type": "stream",
     "text": [
      "100%|██████████| 563/563 [09:34<00:00,  1.02s/it]\n"
     ]
    },
    {
     "name": "stdout",
     "output_type": "stream",
     "text": [
      "Epoch 8/10 | Train Loss: 0.2418 | Val Loss: 0.2216\n",
      "Train Acc: 0.8925 | Val Acc: 0.9029\n",
      "Train Prec: 0.9021 | Val Prec: 0.9204\n",
      "Train Rec: 0.8805 | Val Rec: 0.8824\n"
     ]
    },
    {
     "name": "stderr",
     "output_type": "stream",
     "text": [
      "100%|██████████| 563/563 [09:35<00:00,  1.02s/it]\n"
     ]
    },
    {
     "name": "stdout",
     "output_type": "stream",
     "text": [
      "Epoch 9/10 | Train Loss: 0.2394 | Val Loss: 0.2086\n",
      "Train Acc: 0.8959 | Val Acc: 0.9142\n",
      "Train Prec: 0.9070 | Val Prec: 0.9192\n",
      "Train Rec: 0.8822 | Val Rec: 0.9086\n"
     ]
    },
    {
     "name": "stderr",
     "output_type": "stream",
     "text": [
      "100%|██████████| 563/563 [09:43<00:00,  1.04s/it]\n"
     ]
    },
    {
     "name": "stdout",
     "output_type": "stream",
     "text": [
      "Epoch 10/10 | Train Loss: 0.2400 | Val Loss: 0.2173\n",
      "Train Acc: 0.8959 | Val Acc: 0.9076\n",
      "Train Prec: 0.9064 | Val Prec: 0.9440\n",
      "Train Rec: 0.8829 | Val Rec: 0.8669\n"
     ]
    }
   ],
   "source": [
    "print(\"=== Training CNN from Scratch ===\")\n",
    "history_scratch = train_model(model_scratch, train_loader, val_loader, criterion, optimizer_scratch, scheduler_scratch, epochs=10)\n",
    "\n",
    "print(\"=== Training Transfer Learning ===\")\n",
    "history_tl = train_model(model_tl, train_loader, val_loader, criterion, optimizer_tl, scheduler_tl, epochs=10)"
   ]
  },
  {
   "cell_type": "markdown",
   "id": "746516e2",
   "metadata": {},
   "source": [
    " Sauvegarder les modèles"
   ]
  },
  {
   "cell_type": "code",
   "execution_count": 13,
   "id": "e5a433f2",
   "metadata": {},
   "outputs": [],
   "source": [
    "torch.save(model_scratch.state_dict(), \"cnn_from_scratch.pth\")\n",
    "torch.save(model_tl.state_dict(), \"transfer_learning.pth\")"
   ]
  },
  {
   "cell_type": "markdown",
   "id": "6a88d267",
   "metadata": {},
   "source": [
    "Visualisation"
   ]
  },
  {
   "cell_type": "code",
   "execution_count": 14,
   "id": "29410121",
   "metadata": {},
   "outputs": [
    {
     "data": {
      "image/png": "[encoded data removed]",
      "text/plain": [
       "<Figure size 640x480 with 1 Axes>"
      ]
     },
     "metadata": {},
     "output_type": "display_data"
    },
    {
     "data": {
      "image/png": "[encoded data removed]",
      "text/plain": [
       "<Figure size 640x480 with 1 Axes>"
      ]
     },
     "metadata": {},
     "output_type": "display_data"
    }
   ],
   "source": [
    "epochs = range(1,11)\n",
    "plt.plot(epochs, history_scratch['val_acc'], label='Scratch Val Acc')\n",
    "plt.plot(epochs, history_tl['val_acc'], label='Transfer Val Acc')\n",
    "plt.xlabel('Epochs'); plt.ylabel('Accuracy'); plt.title('Validation Accuracy Comparison'); plt.legend(); plt.show()\n",
    "\n",
    "plt.plot(epochs, history_scratch['val_loss'], label='Scratch Val Loss')\n",
    "plt.plot(epochs, history_tl['val_loss'], label='Transfer Val Loss')\n",
    "plt.xlabel('Epochs'); plt.ylabel('Loss'); plt.title('Validation Loss Comparison'); plt.legend(); plt.show()\n"
   ]
  },
  {
   "cell_type": "markdown",
   "id": "1d5bfbce",
   "metadata": {},
   "source": [
    "Métriques et comparaison\n",
    "À chaque epoch, calcule et stocke : training loss, accuracy, précision, recall (sur train et val si split).\n",
    "Trace des courbes : Une pour loss, une pour accuracy, comparant A et B.\n",
    "Bonus : Matrice de confusion avec confusion_matrix et commente quelques erreurs (ex. \"Le modèle confond les chats noirs avec les chiens\")."
   ]
  }
 ],
 "metadata": {
  "kernelspec": {
   "display_name": ".venv",
   "language": "python",
   "name": "python3"
  },
  "language_info": {
   "codemirror_mode": {
    "name": "ipython",
    "version": 3
   },
   "file_extension": ".py",
   "mimetype": "text/x-python",
   "name": "python",
   "nbconvert_exporter": "python",
   "pygments_lexer": "ipython3",
   "version": "3.13.5"
  }
 },
 "nbformat": 4,
 "nbformat_minor": 5
}
